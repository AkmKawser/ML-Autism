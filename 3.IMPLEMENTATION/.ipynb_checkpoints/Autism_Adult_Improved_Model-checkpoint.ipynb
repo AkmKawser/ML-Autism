{
 "cells": [
  {
   "cell_type": "markdown",
   "metadata": {
    "colab_type": "text",
    "id": "FRwe5prv4S9p"
   },
   "source": [
    "# Installing Colab Dependencies & Libraries"
   ]
  },
  {
   "cell_type": "code",
   "execution_count": 20,
   "metadata": {
    "colab": {
     "autoexec": {
      "startup": false,
      "wait_interval": 0
     },
     "base_uri": "https://localhost:8080/",
     "height": 37
    },
    "colab_type": "code",
    "executionInfo": {
     "elapsed": 4274,
     "status": "ok",
     "timestamp": 1529912653148,
     "user": {
      "displayName": "Abdullah Al Imran",
      "photoUrl": "//lh4.googleusercontent.com/-Mk2wYl6R5Ro/AAAAAAAAAAI/AAAAAAAAA-M/ff3zAI0hf5U/s50-c-k-no/photo.jpg",
      "userId": "118099827381066863470"
     },
     "user_tz": -360
    },
    "id": "bzOqkU7fCHiG",
    "outputId": "3234ef49-b761-4fd7-afad-d284bf05a066"
   },
   "outputs": [],
   "source": [
    "# Install the PyDrive wrapper & import libraries.\n",
    "# This only needs to be done once per notebook.\n",
    "!pip install -U -q PyDrive\n",
    "from pydrive.auth import GoogleAuth\n",
    "from pydrive.drive import GoogleDrive\n",
    "from google.colab import auth\n",
    "from oauth2client.client import GoogleCredentials\n",
    "\n",
    "# Authenticate and create the PyDrive client.\n",
    "# This only needs to be done once per notebook.\n",
    "auth.authenticate_user()\n",
    "gauth = GoogleAuth()\n",
    "gauth.credentials = GoogleCredentials.get_application_default()\n",
    "drive = GoogleDrive(gauth)\n",
    "\n",
    "file_id = \"1E_HRqw3sdsAJcl7o1KuK-k8X5JvA8nEp\"\n",
    "file_name = \"autism_feature_engg_data.csv\"\n",
    "file_downloaded = drive.CreateFile({'id': file_id})\n",
    "file_downloaded.GetContentFile(file_name)\n",
    "\n",
    "# Ignore IPythonNoteook Warnings\n",
    "import warnings\n",
    "warnings.filterwarnings(\"ignore\")"
   ]
  },
  {
   "cell_type": "code",
   "execution_count": 1,
   "metadata": {
    "colab": {
     "autoexec": {
      "startup": false,
      "wait_interval": 0
     },
     "base_uri": "https://localhost:8080/",
     "height": 37
    },
    "colab_type": "code",
    "executionInfo": {
     "elapsed": 822,
     "status": "ok",
     "timestamp": 1529912654135,
     "user": {
      "displayName": "Abdullah Al Imran",
      "photoUrl": "//lh4.googleusercontent.com/-Mk2wYl6R5Ro/AAAAAAAAAAI/AAAAAAAAA-M/ff3zAI0hf5U/s50-c-k-no/photo.jpg",
      "userId": "118099827381066863470"
     },
     "user_tz": -360
    },
    "id": "kx7q_FL-DCtw",
    "outputId": "207412f2-0921-47ee-e159-c6a528a63dff"
   },
   "outputs": [],
   "source": [
    "import pandas as pd\n",
    "import numpy as np\n",
    "np.random.seed(1337) # for reproducibility"
   ]
  },
  {
   "cell_type": "markdown",
   "metadata": {
    "colab_type": "text",
    "id": "oRiICmX8DdQ6"
   },
   "source": [
    "# Loading Data"
   ]
  },
  {
   "cell_type": "code",
   "execution_count": 2,
   "metadata": {
    "colab": {
     "autoexec": {
      "startup": false,
      "wait_interval": 0
     },
     "base_uri": "https://localhost:8080/",
     "height": 54
    },
    "colab_type": "code",
    "executionInfo": {
     "elapsed": 859,
     "status": "ok",
     "timestamp": 1529912655133,
     "user": {
      "displayName": "Abdullah Al Imran",
      "photoUrl": "//lh4.googleusercontent.com/-Mk2wYl6R5Ro/AAAAAAAAAAI/AAAAAAAAA-M/ff3zAI0hf5U/s50-c-k-no/photo.jpg",
      "userId": "118099827381066863470"
     },
     "user_tz": -360
    },
    "id": "CIguYeQDDPWW",
    "outputId": "a989c507-6612-433d-d7d6-db1e8bc4dfb7"
   },
   "outputs": [
    {
     "name": "stdout",
     "output_type": "stream",
     "text": [
      "Total No of Rows: 704 \n",
      "Total No of Columns: 16\n"
     ]
    }
   ],
   "source": [
    "file_name = \"autism_feature_engg_data.csv\"\n",
    "data = pd.read_csv(file_name, header=0)\n",
    "\n",
    "print(\"Total No of Rows: {} \\nTotal No of Columns: {}\".format(data.shape[0], data.shape[1]))"
   ]
  },
  {
   "cell_type": "code",
   "execution_count": 3,
   "metadata": {
    "colab": {
     "autoexec": {
      "startup": false,
      "wait_interval": 0
     },
     "base_uri": "https://localhost:8080/",
     "height": 399
    },
    "colab_type": "code",
    "executionInfo": {
     "elapsed": 840,
     "status": "ok",
     "timestamp": 1529912656101,
     "user": {
      "displayName": "Abdullah Al Imran",
      "photoUrl": "//lh4.googleusercontent.com/-Mk2wYl6R5Ro/AAAAAAAAAAI/AAAAAAAAA-M/ff3zAI0hf5U/s50-c-k-no/photo.jpg",
      "userId": "118099827381066863470"
     },
     "user_tz": -360
    },
    "id": "_ySp85aVDZFK",
    "outputId": "a82e366a-509d-435c-9568-b6b8609081e9"
   },
   "outputs": [
    {
     "name": "stdout",
     "output_type": "stream",
     "text": [
      "<class 'pandas.core.frame.DataFrame'>\n",
      "RangeIndex: 704 entries, 0 to 703\n",
      "Data columns (total 16 columns):\n",
      "A1_Score     704 non-null int64\n",
      "A2_Score     704 non-null int64\n",
      "A3_Score     704 non-null int64\n",
      "A4_Score     704 non-null int64\n",
      "A5_Score     704 non-null int64\n",
      "A6_Score     704 non-null int64\n",
      "A7_Score     704 non-null int64\n",
      "A8_Score     704 non-null int64\n",
      "A9_Score     704 non-null int64\n",
      "A10_Score    704 non-null int64\n",
      "age          704 non-null int64\n",
      "ethnicity    704 non-null object\n",
      "jundice      704 non-null object\n",
      "austim       704 non-null object\n",
      "result       704 non-null int64\n",
      "Class/ASD    704 non-null object\n",
      "dtypes: int64(12), object(4)\n",
      "memory usage: 88.1+ KB\n"
     ]
    }
   ],
   "source": [
    "data.info()"
   ]
  },
  {
   "cell_type": "markdown",
   "metadata": {
    "colab_type": "text",
    "id": "jIYqlQQBpWZh"
   },
   "source": [
    "# Encoding Categorical Features"
   ]
  },
  {
   "cell_type": "code",
   "execution_count": 11,
   "metadata": {
    "colab": {
     "autoexec": {
      "startup": false,
      "wait_interval": 0
     },
     "base_uri": "https://localhost:8080/",
     "height": 37
    },
    "colab_type": "code",
    "executionInfo": {
     "elapsed": 1053,
     "status": "ok",
     "timestamp": 1529912657279,
     "user": {
      "displayName": "Abdullah Al Imran",
      "photoUrl": "//lh4.googleusercontent.com/-Mk2wYl6R5Ro/AAAAAAAAAAI/AAAAAAAAA-M/ff3zAI0hf5U/s50-c-k-no/photo.jpg",
      "userId": "118099827381066863470"
     },
     "user_tz": -360
    },
    "id": "cVr5zp1SpL5D",
    "outputId": "efaa7a6f-e5e5-4769-a91e-2045e922e964"
   },
   "outputs": [],
   "source": [
    "# Encoding the categorical columns\n",
    "from sklearn.preprocessing import LabelEncoder\n",
    "\n",
    "for i in data.select_dtypes(include=['object']).columns:\n",
    "    data[i] = LabelEncoder().fit_transform(data[i])"
   ]
  },
  {
   "cell_type": "markdown",
   "metadata": {
    "colab_type": "text",
    "id": "JWdJi0sLD7q0"
   },
   "source": [
    "# Separating X and Y features"
   ]
  },
  {
   "cell_type": "code",
   "execution_count": 12,
   "metadata": {
    "colab": {
     "autoexec": {
      "startup": false,
      "wait_interval": 0
     },
     "base_uri": "https://localhost:8080/",
     "height": 37
    },
    "colab_type": "code",
    "executionInfo": {
     "elapsed": 860,
     "status": "ok",
     "timestamp": 1529912658249,
     "user": {
      "displayName": "Abdullah Al Imran",
      "photoUrl": "//lh4.googleusercontent.com/-Mk2wYl6R5Ro/AAAAAAAAAAI/AAAAAAAAA-M/ff3zAI0hf5U/s50-c-k-no/photo.jpg",
      "userId": "118099827381066863470"
     },
     "user_tz": -360
    },
    "id": "QTr0_LE2D7Hv",
    "outputId": "e141b40e-a634-468b-e356-5b744b9fb4b3"
   },
   "outputs": [],
   "source": [
    "X = data.loc[:, data.columns!='Class/ASD']\n",
    "y = data.loc[:, data.columns=='Class/ASD']"
   ]
  },
  {
   "cell_type": "code",
   "execution_count": 13,
   "metadata": {
    "colab": {
     "autoexec": {
      "startup": false,
      "wait_interval": 0
     },
     "base_uri": "https://localhost:8080/",
     "height": 72
    },
    "colab_type": "code",
    "executionInfo": {
     "elapsed": 837,
     "status": "ok",
     "timestamp": 1529912659218,
     "user": {
      "displayName": "Abdullah Al Imran",
      "photoUrl": "//lh4.googleusercontent.com/-Mk2wYl6R5Ro/AAAAAAAAAAI/AAAAAAAAA-M/ff3zAI0hf5U/s50-c-k-no/photo.jpg",
      "userId": "118099827381066863470"
     },
     "user_tz": -360
    },
    "id": "GqfWjqwrKrY5",
    "outputId": "e48e6b4d-180d-4748-943d-6fcefc6d03e8"
   },
   "outputs": [
    {
     "data": {
      "text/plain": [
       "0    515\n",
       "1    189\n",
       "Name: Class/ASD, dtype: int64"
      ]
     },
     "execution_count": 13,
     "metadata": {},
     "output_type": "execute_result"
    }
   ],
   "source": [
    "pd.DataFrame(y)['Class/ASD'].value_counts()"
   ]
  },
  {
   "cell_type": "markdown",
   "metadata": {
    "colab_type": "text",
    "id": "SK2ac50zFX-d"
   },
   "source": [
    "# 10-Fold Cross Valiation Setup"
   ]
  },
  {
   "cell_type": "code",
   "execution_count": 14,
   "metadata": {
    "colab": {
     "autoexec": {
      "startup": false,
      "wait_interval": 0
     },
     "base_uri": "https://localhost:8080/",
     "height": 37
    },
    "colab_type": "code",
    "executionInfo": {
     "elapsed": 823,
     "status": "ok",
     "timestamp": 1529912660191,
     "user": {
      "displayName": "Abdullah Al Imran",
      "photoUrl": "//lh4.googleusercontent.com/-Mk2wYl6R5Ro/AAAAAAAAAAI/AAAAAAAAA-M/ff3zAI0hf5U/s50-c-k-no/photo.jpg",
      "userId": "118099827381066863470"
     },
     "user_tz": -360
    },
    "id": "1-JR_5GyEQlv",
    "outputId": "454a4be0-f91b-43d7-e3af-98635a84e5f6"
   },
   "outputs": [],
   "source": [
    "from sklearn.model_selection import KFold\n",
    "\n",
    "kf = KFold(n_splits=10, shuffle=True, random_state=1)"
   ]
  },
  {
   "cell_type": "code",
   "execution_count": 15,
   "metadata": {
    "colab": {
     "autoexec": {
      "startup": false,
      "wait_interval": 0
     },
     "base_uri": "https://localhost:8080/",
     "height": 37
    },
    "colab_type": "code",
    "executionInfo": {
     "elapsed": 877,
     "status": "ok",
     "timestamp": 1529912661382,
     "user": {
      "displayName": "Abdullah Al Imran",
      "photoUrl": "//lh4.googleusercontent.com/-Mk2wYl6R5Ro/AAAAAAAAAAI/AAAAAAAAA-M/ff3zAI0hf5U/s50-c-k-no/photo.jpg",
      "userId": "118099827381066863470"
     },
     "user_tz": -360
    },
    "id": "QQdzdSjhKTPT",
    "outputId": "b48e871f-4a9f-490b-a83a-a5464a5af404"
   },
   "outputs": [],
   "source": [
    "from sklearn.metrics import confusion_matrix, make_scorer\n",
    "\n",
    "def accuracy(y_true, y_pred): \n",
    "  tn, fp, fn, tp = confusion_matrix(y_true, y_pred).ravel()\n",
    "  return (tp+tn)/(tp+tn+fp+fn)\n",
    "\n",
    "def precision(y_true, y_pred): \n",
    "  tn, fp, fn, tp = confusion_matrix(y_true, y_pred).ravel()\n",
    "  return (tp/(tp+fp))\n",
    "\n",
    "def sensitivity(y_true, y_pred): \n",
    "  tn, fp, fn, tp = confusion_matrix(y_true, y_pred).ravel()\n",
    "  return (tp/(tp+fn))\n",
    "\n",
    "def specificity(y_true, y_pred): \n",
    "  tn, fp, fn, tp = confusion_matrix(y_true, y_pred).ravel()\n",
    "  return (tn/(tn+fp))\n",
    "\n",
    "def f1_score(y_true, y_pred): \n",
    "  tn, fp, fn, tp = confusion_matrix(y_true, y_pred).ravel()\n",
    "  return (2 * (tp/(tp+fp)) * (tp/(tp+fn))) / ((tp/(tp+fp)) + (tp/(tp+fn)))\n",
    "\n",
    "scoring = {'accuracy' : make_scorer(accuracy), \n",
    "           'precision' : make_scorer(precision),\n",
    "           'sensitivity' : make_scorer(sensitivity),\n",
    "           'specificity' : make_scorer(specificity),\n",
    "           'f1-score' : make_scorer(f1_score)}"
   ]
  },
  {
   "cell_type": "markdown",
   "metadata": {
    "colab_type": "text",
    "id": "mVoG0fRwF4jM"
   },
   "source": [
    "# Modeling with CV"
   ]
  },
  {
   "cell_type": "code",
   "execution_count": 16,
   "metadata": {
    "colab": {
     "autoexec": {
      "startup": false,
      "wait_interval": 0
     },
     "base_uri": "https://localhost:8080/",
     "height": 37
    },
    "colab_type": "code",
    "executionInfo": {
     "elapsed": 754,
     "status": "ok",
     "timestamp": 1529912663114,
     "user": {
      "displayName": "Abdullah Al Imran",
      "photoUrl": "//lh4.googleusercontent.com/-Mk2wYl6R5Ro/AAAAAAAAAAI/AAAAAAAAA-M/ff3zAI0hf5U/s50-c-k-no/photo.jpg",
      "userId": "118099827381066863470"
     },
     "user_tz": -360
    },
    "id": "OaX8L7fpGBvZ",
    "outputId": "509a3c76-fb22-4ddc-e16b-790bb9fec9bc"
   },
   "outputs": [],
   "source": [
    "from sklearn.model_selection import cross_validate"
   ]
  },
  {
   "cell_type": "code",
   "execution_count": 17,
   "metadata": {
    "colab": {
     "autoexec": {
      "startup": false,
      "wait_interval": 0
     },
     "base_uri": "https://localhost:8080/",
     "height": 37
    },
    "colab_type": "code",
    "executionInfo": {
     "elapsed": 818,
     "status": "ok",
     "timestamp": 1529912664187,
     "user": {
      "displayName": "Abdullah Al Imran",
      "photoUrl": "//lh4.googleusercontent.com/-Mk2wYl6R5Ro/AAAAAAAAAAI/AAAAAAAAA-M/ff3zAI0hf5U/s50-c-k-no/photo.jpg",
      "userId": "118099827381066863470"
     },
     "user_tz": -360
    },
    "id": "HUD6IhDZGL5t",
    "outputId": "1cebcf3f-68ac-41d8-eee0-21a348cec463"
   },
   "outputs": [],
   "source": [
    "from sklearn.linear_model import LogisticRegression\n",
    "from sklearn.discriminant_analysis import LinearDiscriminantAnalysis\n",
    "from sklearn.naive_bayes import BernoulliNB\n",
    "from sklearn.neighbors import KNeighborsClassifier\n",
    "from sklearn.svm import SVC\n",
    "from sklearn.ensemble import RandomForestClassifier"
   ]
  },
  {
   "cell_type": "markdown",
   "metadata": {
    "colab_type": "text",
    "id": "sCm_2Tbmnqp9"
   },
   "source": [
    "## Logistic Regression"
   ]
  },
  {
   "cell_type": "code",
   "execution_count": 18,
   "metadata": {
    "colab": {
     "autoexec": {
      "startup": false,
      "wait_interval": 0
     },
     "base_uri": "https://localhost:8080/",
     "height": 37
    },
    "colab_type": "code",
    "executionInfo": {
     "elapsed": 980,
     "status": "ok",
     "timestamp": 1529912665350,
     "user": {
      "displayName": "Abdullah Al Imran",
      "photoUrl": "//lh4.googleusercontent.com/-Mk2wYl6R5Ro/AAAAAAAAAAI/AAAAAAAAA-M/ff3zAI0hf5U/s50-c-k-no/photo.jpg",
      "userId": "118099827381066863470"
     },
     "user_tz": -360
    },
    "id": "3vzXK7lQFqWE",
    "outputId": "d20bd20f-d6ec-449d-efe0-1e2de4d721b6"
   },
   "outputs": [
    {
     "name": "stderr",
     "output_type": "stream",
     "text": [
      "/home/imran/anaconda3/lib/python3.6/site-packages/sklearn/utils/validation.py:578: DataConversionWarning: A column-vector y was passed when a 1d array was expected. Please change the shape of y to (n_samples, ), for example using ravel().\n",
      "  y = column_or_1d(y, warn=True)\n",
      "/home/imran/anaconda3/lib/python3.6/site-packages/sklearn/utils/validation.py:578: DataConversionWarning: A column-vector y was passed when a 1d array was expected. Please change the shape of y to (n_samples, ), for example using ravel().\n",
      "  y = column_or_1d(y, warn=True)\n",
      "/home/imran/anaconda3/lib/python3.6/site-packages/sklearn/utils/validation.py:578: DataConversionWarning: A column-vector y was passed when a 1d array was expected. Please change the shape of y to (n_samples, ), for example using ravel().\n",
      "  y = column_or_1d(y, warn=True)\n",
      "/home/imran/anaconda3/lib/python3.6/site-packages/sklearn/utils/validation.py:578: DataConversionWarning: A column-vector y was passed when a 1d array was expected. Please change the shape of y to (n_samples, ), for example using ravel().\n",
      "  y = column_or_1d(y, warn=True)\n",
      "/home/imran/anaconda3/lib/python3.6/site-packages/sklearn/utils/validation.py:578: DataConversionWarning: A column-vector y was passed when a 1d array was expected. Please change the shape of y to (n_samples, ), for example using ravel().\n",
      "  y = column_or_1d(y, warn=True)\n",
      "/home/imran/anaconda3/lib/python3.6/site-packages/sklearn/utils/validation.py:578: DataConversionWarning: A column-vector y was passed when a 1d array was expected. Please change the shape of y to (n_samples, ), for example using ravel().\n",
      "  y = column_or_1d(y, warn=True)\n",
      "/home/imran/anaconda3/lib/python3.6/site-packages/sklearn/utils/validation.py:578: DataConversionWarning: A column-vector y was passed when a 1d array was expected. Please change the shape of y to (n_samples, ), for example using ravel().\n",
      "  y = column_or_1d(y, warn=True)\n",
      "/home/imran/anaconda3/lib/python3.6/site-packages/sklearn/utils/validation.py:578: DataConversionWarning: A column-vector y was passed when a 1d array was expected. Please change the shape of y to (n_samples, ), for example using ravel().\n",
      "  y = column_or_1d(y, warn=True)\n",
      "/home/imran/anaconda3/lib/python3.6/site-packages/sklearn/utils/validation.py:578: DataConversionWarning: A column-vector y was passed when a 1d array was expected. Please change the shape of y to (n_samples, ), for example using ravel().\n",
      "  y = column_or_1d(y, warn=True)\n",
      "/home/imran/anaconda3/lib/python3.6/site-packages/sklearn/utils/validation.py:578: DataConversionWarning: A column-vector y was passed when a 1d array was expected. Please change the shape of y to (n_samples, ), for example using ravel().\n",
      "  y = column_or_1d(y, warn=True)\n"
     ]
    }
   ],
   "source": [
    "lr_model = LogisticRegression(random_state=1)\n",
    "lr_scores = cross_validate(lr_model, X, y, scoring=scoring, cv=kf)"
   ]
  },
  {
   "cell_type": "markdown",
   "metadata": {
    "colab_type": "text",
    "id": "8FUTOd5in6xu"
   },
   "source": [
    "## Linear Discriminant Analysis"
   ]
  },
  {
   "cell_type": "code",
   "execution_count": 19,
   "metadata": {
    "colab": {
     "autoexec": {
      "startup": false,
      "wait_interval": 0
     },
     "base_uri": "https://localhost:8080/",
     "height": 37
    },
    "colab_type": "code",
    "executionInfo": {
     "elapsed": 884,
     "status": "ok",
     "timestamp": 1529912667244,
     "user": {
      "displayName": "Abdullah Al Imran",
      "photoUrl": "//lh4.googleusercontent.com/-Mk2wYl6R5Ro/AAAAAAAAAAI/AAAAAAAAA-M/ff3zAI0hf5U/s50-c-k-no/photo.jpg",
      "userId": "118099827381066863470"
     },
     "user_tz": -360
    },
    "id": "C73ugKZQn6xv",
    "outputId": "e749d110-354f-4a91-8ee4-24fe5fd99fab"
   },
   "outputs": [
    {
     "name": "stderr",
     "output_type": "stream",
     "text": [
      "/home/imran/anaconda3/lib/python3.6/site-packages/sklearn/utils/validation.py:578: DataConversionWarning: A column-vector y was passed when a 1d array was expected. Please change the shape of y to (n_samples, ), for example using ravel().\n",
      "  y = column_or_1d(y, warn=True)\n",
      "/home/imran/anaconda3/lib/python3.6/site-packages/sklearn/discriminant_analysis.py:388: UserWarning: Variables are collinear.\n",
      "  warnings.warn(\"Variables are collinear.\")\n",
      "/home/imran/anaconda3/lib/python3.6/site-packages/sklearn/utils/validation.py:578: DataConversionWarning: A column-vector y was passed when a 1d array was expected. Please change the shape of y to (n_samples, ), for example using ravel().\n",
      "  y = column_or_1d(y, warn=True)\n",
      "/home/imran/anaconda3/lib/python3.6/site-packages/sklearn/discriminant_analysis.py:388: UserWarning: Variables are collinear.\n",
      "  warnings.warn(\"Variables are collinear.\")\n",
      "/home/imran/anaconda3/lib/python3.6/site-packages/sklearn/utils/validation.py:578: DataConversionWarning: A column-vector y was passed when a 1d array was expected. Please change the shape of y to (n_samples, ), for example using ravel().\n",
      "  y = column_or_1d(y, warn=True)\n",
      "/home/imran/anaconda3/lib/python3.6/site-packages/sklearn/discriminant_analysis.py:388: UserWarning: Variables are collinear.\n",
      "  warnings.warn(\"Variables are collinear.\")\n",
      "/home/imran/anaconda3/lib/python3.6/site-packages/sklearn/utils/validation.py:578: DataConversionWarning: A column-vector y was passed when a 1d array was expected. Please change the shape of y to (n_samples, ), for example using ravel().\n",
      "  y = column_or_1d(y, warn=True)\n",
      "/home/imran/anaconda3/lib/python3.6/site-packages/sklearn/discriminant_analysis.py:388: UserWarning: Variables are collinear.\n",
      "  warnings.warn(\"Variables are collinear.\")\n",
      "/home/imran/anaconda3/lib/python3.6/site-packages/sklearn/utils/validation.py:578: DataConversionWarning: A column-vector y was passed when a 1d array was expected. Please change the shape of y to (n_samples, ), for example using ravel().\n",
      "  y = column_or_1d(y, warn=True)\n",
      "/home/imran/anaconda3/lib/python3.6/site-packages/sklearn/discriminant_analysis.py:388: UserWarning: Variables are collinear.\n",
      "  warnings.warn(\"Variables are collinear.\")\n",
      "/home/imran/anaconda3/lib/python3.6/site-packages/sklearn/utils/validation.py:578: DataConversionWarning: A column-vector y was passed when a 1d array was expected. Please change the shape of y to (n_samples, ), for example using ravel().\n",
      "  y = column_or_1d(y, warn=True)\n",
      "/home/imran/anaconda3/lib/python3.6/site-packages/sklearn/discriminant_analysis.py:388: UserWarning: Variables are collinear.\n",
      "  warnings.warn(\"Variables are collinear.\")\n",
      "/home/imran/anaconda3/lib/python3.6/site-packages/sklearn/utils/validation.py:578: DataConversionWarning: A column-vector y was passed when a 1d array was expected. Please change the shape of y to (n_samples, ), for example using ravel().\n",
      "  y = column_or_1d(y, warn=True)\n",
      "/home/imran/anaconda3/lib/python3.6/site-packages/sklearn/discriminant_analysis.py:388: UserWarning: Variables are collinear.\n",
      "  warnings.warn(\"Variables are collinear.\")\n",
      "/home/imran/anaconda3/lib/python3.6/site-packages/sklearn/utils/validation.py:578: DataConversionWarning: A column-vector y was passed when a 1d array was expected. Please change the shape of y to (n_samples, ), for example using ravel().\n",
      "  y = column_or_1d(y, warn=True)\n",
      "/home/imran/anaconda3/lib/python3.6/site-packages/sklearn/discriminant_analysis.py:388: UserWarning: Variables are collinear.\n",
      "  warnings.warn(\"Variables are collinear.\")\n",
      "/home/imran/anaconda3/lib/python3.6/site-packages/sklearn/utils/validation.py:578: DataConversionWarning: A column-vector y was passed when a 1d array was expected. Please change the shape of y to (n_samples, ), for example using ravel().\n",
      "  y = column_or_1d(y, warn=True)\n",
      "/home/imran/anaconda3/lib/python3.6/site-packages/sklearn/discriminant_analysis.py:388: UserWarning: Variables are collinear.\n",
      "  warnings.warn(\"Variables are collinear.\")\n",
      "/home/imran/anaconda3/lib/python3.6/site-packages/sklearn/utils/validation.py:578: DataConversionWarning: A column-vector y was passed when a 1d array was expected. Please change the shape of y to (n_samples, ), for example using ravel().\n",
      "  y = column_or_1d(y, warn=True)\n",
      "/home/imran/anaconda3/lib/python3.6/site-packages/sklearn/discriminant_analysis.py:388: UserWarning: Variables are collinear.\n",
      "  warnings.warn(\"Variables are collinear.\")\n"
     ]
    }
   ],
   "source": [
    "lda_model = LinearDiscriminantAnalysis()\n",
    "lda_scores = cross_validate(lda_model, X, y, scoring=scoring, cv=kf)"
   ]
  },
  {
   "cell_type": "markdown",
   "metadata": {
    "colab_type": "text",
    "id": "DZjw-35szh30"
   },
   "source": [
    "## Naive Bayes"
   ]
  },
  {
   "cell_type": "code",
   "execution_count": 20,
   "metadata": {
    "colab": {
     "autoexec": {
      "startup": false,
      "wait_interval": 0
     },
     "base_uri": "https://localhost:8080/",
     "height": 37
    },
    "colab_type": "code",
    "executionInfo": {
     "elapsed": 886,
     "status": "ok",
     "timestamp": 1529912668245,
     "user": {
      "displayName": "Abdullah Al Imran",
      "photoUrl": "//lh4.googleusercontent.com/-Mk2wYl6R5Ro/AAAAAAAAAAI/AAAAAAAAA-M/ff3zAI0hf5U/s50-c-k-no/photo.jpg",
      "userId": "118099827381066863470"
     },
     "user_tz": -360
    },
    "id": "odQ5WUtuzk_K",
    "outputId": "31758140-c30f-482f-c926-bcd4beea3806"
   },
   "outputs": [
    {
     "name": "stderr",
     "output_type": "stream",
     "text": [
      "/home/imran/anaconda3/lib/python3.6/site-packages/sklearn/utils/validation.py:578: DataConversionWarning: A column-vector y was passed when a 1d array was expected. Please change the shape of y to (n_samples, ), for example using ravel().\n",
      "  y = column_or_1d(y, warn=True)\n",
      "/home/imran/anaconda3/lib/python3.6/site-packages/sklearn/utils/validation.py:578: DataConversionWarning: A column-vector y was passed when a 1d array was expected. Please change the shape of y to (n_samples, ), for example using ravel().\n",
      "  y = column_or_1d(y, warn=True)\n",
      "/home/imran/anaconda3/lib/python3.6/site-packages/sklearn/utils/validation.py:578: DataConversionWarning: A column-vector y was passed when a 1d array was expected. Please change the shape of y to (n_samples, ), for example using ravel().\n",
      "  y = column_or_1d(y, warn=True)\n",
      "/home/imran/anaconda3/lib/python3.6/site-packages/sklearn/utils/validation.py:578: DataConversionWarning: A column-vector y was passed when a 1d array was expected. Please change the shape of y to (n_samples, ), for example using ravel().\n",
      "  y = column_or_1d(y, warn=True)\n",
      "/home/imran/anaconda3/lib/python3.6/site-packages/sklearn/utils/validation.py:578: DataConversionWarning: A column-vector y was passed when a 1d array was expected. Please change the shape of y to (n_samples, ), for example using ravel().\n",
      "  y = column_or_1d(y, warn=True)\n",
      "/home/imran/anaconda3/lib/python3.6/site-packages/sklearn/utils/validation.py:578: DataConversionWarning: A column-vector y was passed when a 1d array was expected. Please change the shape of y to (n_samples, ), for example using ravel().\n",
      "  y = column_or_1d(y, warn=True)\n",
      "/home/imran/anaconda3/lib/python3.6/site-packages/sklearn/utils/validation.py:578: DataConversionWarning: A column-vector y was passed when a 1d array was expected. Please change the shape of y to (n_samples, ), for example using ravel().\n",
      "  y = column_or_1d(y, warn=True)\n",
      "/home/imran/anaconda3/lib/python3.6/site-packages/sklearn/utils/validation.py:578: DataConversionWarning: A column-vector y was passed when a 1d array was expected. Please change the shape of y to (n_samples, ), for example using ravel().\n",
      "  y = column_or_1d(y, warn=True)\n",
      "/home/imran/anaconda3/lib/python3.6/site-packages/sklearn/utils/validation.py:578: DataConversionWarning: A column-vector y was passed when a 1d array was expected. Please change the shape of y to (n_samples, ), for example using ravel().\n",
      "  y = column_or_1d(y, warn=True)\n",
      "/home/imran/anaconda3/lib/python3.6/site-packages/sklearn/utils/validation.py:578: DataConversionWarning: A column-vector y was passed when a 1d array was expected. Please change the shape of y to (n_samples, ), for example using ravel().\n",
      "  y = column_or_1d(y, warn=True)\n"
     ]
    }
   ],
   "source": [
    "nb_model = BernoulliNB()\n",
    "nb_scores = cross_validate(nb_model, X, y, scoring=scoring, cv=kf)"
   ]
  },
  {
   "cell_type": "markdown",
   "metadata": {
    "colab_type": "text",
    "id": "8jKel7rtn77M"
   },
   "source": [
    "## K-Neighbors Classifier"
   ]
  },
  {
   "cell_type": "code",
   "execution_count": 21,
   "metadata": {
    "colab": {
     "autoexec": {
      "startup": false,
      "wait_interval": 0
     },
     "base_uri": "https://localhost:8080/",
     "height": 37
    },
    "colab_type": "code",
    "executionInfo": {
     "elapsed": 1256,
     "status": "ok",
     "timestamp": 1529912669623,
     "user": {
      "displayName": "Abdullah Al Imran",
      "photoUrl": "//lh4.googleusercontent.com/-Mk2wYl6R5Ro/AAAAAAAAAAI/AAAAAAAAA-M/ff3zAI0hf5U/s50-c-k-no/photo.jpg",
      "userId": "118099827381066863470"
     },
     "user_tz": -360
    },
    "id": "kA2F9PZRn77N",
    "outputId": "a2b5ebea-b14c-4793-cf8d-54b606092018"
   },
   "outputs": [
    {
     "name": "stderr",
     "output_type": "stream",
     "text": [
      "/home/imran/anaconda3/lib/python3.6/site-packages/sklearn/model_selection/_validation.py:458: DataConversionWarning: A column-vector y was passed when a 1d array was expected. Please change the shape of y to (n_samples, ), for example using ravel().\n",
      "  estimator.fit(X_train, y_train, **fit_params)\n",
      "/home/imran/anaconda3/lib/python3.6/site-packages/sklearn/model_selection/_validation.py:458: DataConversionWarning: A column-vector y was passed when a 1d array was expected. Please change the shape of y to (n_samples, ), for example using ravel().\n",
      "  estimator.fit(X_train, y_train, **fit_params)\n",
      "/home/imran/anaconda3/lib/python3.6/site-packages/sklearn/model_selection/_validation.py:458: DataConversionWarning: A column-vector y was passed when a 1d array was expected. Please change the shape of y to (n_samples, ), for example using ravel().\n",
      "  estimator.fit(X_train, y_train, **fit_params)\n",
      "/home/imran/anaconda3/lib/python3.6/site-packages/sklearn/model_selection/_validation.py:458: DataConversionWarning: A column-vector y was passed when a 1d array was expected. Please change the shape of y to (n_samples, ), for example using ravel().\n",
      "  estimator.fit(X_train, y_train, **fit_params)\n",
      "/home/imran/anaconda3/lib/python3.6/site-packages/sklearn/model_selection/_validation.py:458: DataConversionWarning: A column-vector y was passed when a 1d array was expected. Please change the shape of y to (n_samples, ), for example using ravel().\n",
      "  estimator.fit(X_train, y_train, **fit_params)\n",
      "/home/imran/anaconda3/lib/python3.6/site-packages/sklearn/model_selection/_validation.py:458: DataConversionWarning: A column-vector y was passed when a 1d array was expected. Please change the shape of y to (n_samples, ), for example using ravel().\n",
      "  estimator.fit(X_train, y_train, **fit_params)\n",
      "/home/imran/anaconda3/lib/python3.6/site-packages/sklearn/model_selection/_validation.py:458: DataConversionWarning: A column-vector y was passed when a 1d array was expected. Please change the shape of y to (n_samples, ), for example using ravel().\n",
      "  estimator.fit(X_train, y_train, **fit_params)\n",
      "/home/imran/anaconda3/lib/python3.6/site-packages/sklearn/model_selection/_validation.py:458: DataConversionWarning: A column-vector y was passed when a 1d array was expected. Please change the shape of y to (n_samples, ), for example using ravel().\n",
      "  estimator.fit(X_train, y_train, **fit_params)\n",
      "/home/imran/anaconda3/lib/python3.6/site-packages/sklearn/model_selection/_validation.py:458: DataConversionWarning: A column-vector y was passed when a 1d array was expected. Please change the shape of y to (n_samples, ), for example using ravel().\n",
      "  estimator.fit(X_train, y_train, **fit_params)\n",
      "/home/imran/anaconda3/lib/python3.6/site-packages/sklearn/model_selection/_validation.py:458: DataConversionWarning: A column-vector y was passed when a 1d array was expected. Please change the shape of y to (n_samples, ), for example using ravel().\n",
      "  estimator.fit(X_train, y_train, **fit_params)\n"
     ]
    }
   ],
   "source": [
    "knn_model = KNeighborsClassifier(n_neighbors=10)\n",
    "knn_scores = cross_validate(knn_model, X, y, scoring=scoring, cv=kf)"
   ]
  },
  {
   "cell_type": "markdown",
   "metadata": {
    "colab_type": "text",
    "id": "xTqlCt55n8__"
   },
   "source": [
    "## SVM"
   ]
  },
  {
   "cell_type": "code",
   "execution_count": 22,
   "metadata": {
    "colab": {
     "autoexec": {
      "startup": false,
      "wait_interval": 0
     },
     "base_uri": "https://localhost:8080/",
     "height": 37
    },
    "colab_type": "code",
    "executionInfo": {
     "elapsed": 801,
     "status": "ok",
     "timestamp": 1529912671168,
     "user": {
      "displayName": "Abdullah Al Imran",
      "photoUrl": "//lh4.googleusercontent.com/-Mk2wYl6R5Ro/AAAAAAAAAAI/AAAAAAAAA-M/ff3zAI0hf5U/s50-c-k-no/photo.jpg",
      "userId": "118099827381066863470"
     },
     "user_tz": -360
    },
    "id": "HmgBAZiCn9AB",
    "outputId": "0a9a6d3a-5173-42ab-c76d-383cc9701eb3"
   },
   "outputs": [
    {
     "name": "stderr",
     "output_type": "stream",
     "text": [
      "/home/imran/anaconda3/lib/python3.6/site-packages/sklearn/utils/validation.py:578: DataConversionWarning: A column-vector y was passed when a 1d array was expected. Please change the shape of y to (n_samples, ), for example using ravel().\n",
      "  y = column_or_1d(y, warn=True)\n",
      "/home/imran/anaconda3/lib/python3.6/site-packages/sklearn/utils/validation.py:578: DataConversionWarning: A column-vector y was passed when a 1d array was expected. Please change the shape of y to (n_samples, ), for example using ravel().\n",
      "  y = column_or_1d(y, warn=True)\n",
      "/home/imran/anaconda3/lib/python3.6/site-packages/sklearn/utils/validation.py:578: DataConversionWarning: A column-vector y was passed when a 1d array was expected. Please change the shape of y to (n_samples, ), for example using ravel().\n",
      "  y = column_or_1d(y, warn=True)\n",
      "/home/imran/anaconda3/lib/python3.6/site-packages/sklearn/utils/validation.py:578: DataConversionWarning: A column-vector y was passed when a 1d array was expected. Please change the shape of y to (n_samples, ), for example using ravel().\n",
      "  y = column_or_1d(y, warn=True)\n",
      "/home/imran/anaconda3/lib/python3.6/site-packages/sklearn/utils/validation.py:578: DataConversionWarning: A column-vector y was passed when a 1d array was expected. Please change the shape of y to (n_samples, ), for example using ravel().\n",
      "  y = column_or_1d(y, warn=True)\n",
      "/home/imran/anaconda3/lib/python3.6/site-packages/sklearn/utils/validation.py:578: DataConversionWarning: A column-vector y was passed when a 1d array was expected. Please change the shape of y to (n_samples, ), for example using ravel().\n",
      "  y = column_or_1d(y, warn=True)\n",
      "/home/imran/anaconda3/lib/python3.6/site-packages/sklearn/utils/validation.py:578: DataConversionWarning: A column-vector y was passed when a 1d array was expected. Please change the shape of y to (n_samples, ), for example using ravel().\n",
      "  y = column_or_1d(y, warn=True)\n",
      "/home/imran/anaconda3/lib/python3.6/site-packages/sklearn/utils/validation.py:578: DataConversionWarning: A column-vector y was passed when a 1d array was expected. Please change the shape of y to (n_samples, ), for example using ravel().\n",
      "  y = column_or_1d(y, warn=True)\n",
      "/home/imran/anaconda3/lib/python3.6/site-packages/sklearn/utils/validation.py:578: DataConversionWarning: A column-vector y was passed when a 1d array was expected. Please change the shape of y to (n_samples, ), for example using ravel().\n",
      "  y = column_or_1d(y, warn=True)\n",
      "/home/imran/anaconda3/lib/python3.6/site-packages/sklearn/utils/validation.py:578: DataConversionWarning: A column-vector y was passed when a 1d array was expected. Please change the shape of y to (n_samples, ), for example using ravel().\n",
      "  y = column_or_1d(y, warn=True)\n"
     ]
    }
   ],
   "source": [
    "svm_model = SVC(kernel=\"linear\", C=0.01, random_state=1)\n",
    "svm_scores = cross_validate(svm_model, X, y, scoring=scoring, cv=kf)"
   ]
  },
  {
   "cell_type": "markdown",
   "metadata": {
    "colab_type": "text",
    "id": "v5NUGUI_n9eh"
   },
   "source": [
    "## Random Forest Classifier"
   ]
  },
  {
   "cell_type": "code",
   "execution_count": 26,
   "metadata": {
    "colab": {
     "autoexec": {
      "startup": false,
      "wait_interval": 0
     },
     "base_uri": "https://localhost:8080/",
     "height": 37
    },
    "colab_type": "code",
    "executionInfo": {
     "elapsed": 1181,
     "status": "ok",
     "timestamp": 1529912672557,
     "user": {
      "displayName": "Abdullah Al Imran",
      "photoUrl": "//lh4.googleusercontent.com/-Mk2wYl6R5Ro/AAAAAAAAAAI/AAAAAAAAA-M/ff3zAI0hf5U/s50-c-k-no/photo.jpg",
      "userId": "118099827381066863470"
     },
     "user_tz": -360
    },
    "id": "ovihsZTVn9ei",
    "outputId": "f8b888be-f4ab-4bda-b509-8daf48ef0ad8"
   },
   "outputs": [
    {
     "name": "stderr",
     "output_type": "stream",
     "text": [
      "/home/imran/anaconda3/lib/python3.6/site-packages/sklearn/model_selection/_validation.py:458: DataConversionWarning: A column-vector y was passed when a 1d array was expected. Please change the shape of y to (n_samples,), for example using ravel().\n",
      "  estimator.fit(X_train, y_train, **fit_params)\n",
      "/home/imran/anaconda3/lib/python3.6/site-packages/sklearn/model_selection/_validation.py:458: DataConversionWarning: A column-vector y was passed when a 1d array was expected. Please change the shape of y to (n_samples,), for example using ravel().\n",
      "  estimator.fit(X_train, y_train, **fit_params)\n",
      "/home/imran/anaconda3/lib/python3.6/site-packages/sklearn/model_selection/_validation.py:458: DataConversionWarning: A column-vector y was passed when a 1d array was expected. Please change the shape of y to (n_samples,), for example using ravel().\n",
      "  estimator.fit(X_train, y_train, **fit_params)\n",
      "/home/imran/anaconda3/lib/python3.6/site-packages/sklearn/model_selection/_validation.py:458: DataConversionWarning: A column-vector y was passed when a 1d array was expected. Please change the shape of y to (n_samples,), for example using ravel().\n",
      "  estimator.fit(X_train, y_train, **fit_params)\n",
      "/home/imran/anaconda3/lib/python3.6/site-packages/sklearn/model_selection/_validation.py:458: DataConversionWarning: A column-vector y was passed when a 1d array was expected. Please change the shape of y to (n_samples,), for example using ravel().\n",
      "  estimator.fit(X_train, y_train, **fit_params)\n",
      "/home/imran/anaconda3/lib/python3.6/site-packages/sklearn/model_selection/_validation.py:458: DataConversionWarning: A column-vector y was passed when a 1d array was expected. Please change the shape of y to (n_samples,), for example using ravel().\n",
      "  estimator.fit(X_train, y_train, **fit_params)\n",
      "/home/imran/anaconda3/lib/python3.6/site-packages/sklearn/model_selection/_validation.py:458: DataConversionWarning: A column-vector y was passed when a 1d array was expected. Please change the shape of y to (n_samples,), for example using ravel().\n",
      "  estimator.fit(X_train, y_train, **fit_params)\n",
      "/home/imran/anaconda3/lib/python3.6/site-packages/sklearn/model_selection/_validation.py:458: DataConversionWarning: A column-vector y was passed when a 1d array was expected. Please change the shape of y to (n_samples,), for example using ravel().\n",
      "  estimator.fit(X_train, y_train, **fit_params)\n",
      "/home/imran/anaconda3/lib/python3.6/site-packages/sklearn/model_selection/_validation.py:458: DataConversionWarning: A column-vector y was passed when a 1d array was expected. Please change the shape of y to (n_samples,), for example using ravel().\n",
      "  estimator.fit(X_train, y_train, **fit_params)\n",
      "/home/imran/anaconda3/lib/python3.6/site-packages/sklearn/model_selection/_validation.py:458: DataConversionWarning: A column-vector y was passed when a 1d array was expected. Please change the shape of y to (n_samples,), for example using ravel().\n",
      "  estimator.fit(X_train, y_train, **fit_params)\n"
     ]
    }
   ],
   "source": [
    "rf_model = RandomForestClassifier(random_state=1)\n",
    "rf_scores = cross_validate(rf_model, X, y, scoring=scoring, cv=kf)"
   ]
  },
  {
   "cell_type": "markdown",
   "metadata": {
    "colab_type": "text",
    "id": "ByXLXsiqxbYC"
   },
   "source": [
    "# Print Model Scores"
   ]
  },
  {
   "cell_type": "code",
   "execution_count": 24,
   "metadata": {
    "colab": {
     "autoexec": {
      "startup": false,
      "wait_interval": 0
     },
     "base_uri": "https://localhost:8080/",
     "height": 126
    },
    "colab_type": "code",
    "executionInfo": {
     "elapsed": 1028,
     "status": "ok",
     "timestamp": 1529912673698,
     "user": {
      "displayName": "Abdullah Al Imran",
      "photoUrl": "//lh4.googleusercontent.com/-Mk2wYl6R5Ro/AAAAAAAAAAI/AAAAAAAAA-M/ff3zAI0hf5U/s50-c-k-no/photo.jpg",
      "userId": "118099827381066863470"
     },
     "user_tz": -360
    },
    "id": "w6YlxkSPGkm3",
    "outputId": "149c310e-c666-498c-febf-c77c7d79accc"
   },
   "outputs": [
    {
     "name": "stdout",
     "output_type": "stream",
     "text": [
      "0.97\t0.94\t0.93\t0.98\t0.93\n",
      "0.96\t0.93\t0.93\t0.97\t0.93\n",
      "0.97\t0.93\t0.95\t0.97\t0.94\n",
      "0.97\t0.99\t0.89\t1.0\t0.94\n",
      "0.99\t1.0\t0.98\t1.0\t0.99\n",
      "1.0\t1.0\t1.0\t1.0\t1.0\n"
     ]
    }
   ],
   "source": [
    "print(\"{:.2}\\t{:.2}\\t{:.2}\\t{:.2}\\t{:.2}\".format(lr_scores['test_accuracy'].mean(),\n",
    "                                                 lr_scores['test_precision'].mean(),\n",
    "                                                 lr_scores['test_sensitivity'].mean(),\n",
    "                                                 lr_scores['test_specificity'].mean(),\n",
    "                                                 lr_scores['test_f1-score'].mean()))\n",
    "\n",
    "print(\"{:.2}\\t{:.2}\\t{:.2}\\t{:.2}\\t{:.2}\".format(lda_scores['test_accuracy'].mean(),\n",
    "                                                 lda_scores['test_precision'].mean(),\n",
    "                                                 lda_scores['test_sensitivity'].mean(),\n",
    "                                                 lda_scores['test_specificity'].mean(),\n",
    "                                                 lda_scores['test_f1-score'].mean()))\n",
    "\n",
    "print(\"{:.2}\\t{:.2}\\t{:.2}\\t{:.2}\\t{:.2}\".format(nb_scores['test_accuracy'].mean(),\n",
    "                                                 nb_scores['test_precision'].mean(),\n",
    "                                                 nb_scores['test_sensitivity'].mean(),\n",
    "                                                 nb_scores['test_specificity'].mean(),\n",
    "                                                 nb_scores['test_f1-score'].mean()))\n",
    "\n",
    "print(\"{:.2}\\t{:.2}\\t{:.2}\\t{:.2}\\t{:.2}\".format(knn_scores['test_accuracy'].mean(),\n",
    "                                                 knn_scores['test_precision'].mean(),\n",
    "                                                 knn_scores['test_sensitivity'].mean(),\n",
    "                                                 knn_scores['test_specificity'].mean(),\n",
    "                                                 knn_scores['test_f1-score'].mean()))\n",
    "\n",
    "print(\"{:.2}\\t{:.2}\\t{:.2}\\t{:.2}\\t{:.2}\".format(svm_scores['test_accuracy'].mean(),\n",
    "                                                 svm_scores['test_precision'].mean(),\n",
    "                                                 svm_scores['test_sensitivity'].mean(),\n",
    "                                                 svm_scores['test_specificity'].mean(),\n",
    "                                                 svm_scores['test_f1-score'].mean()))\n",
    "\n",
    "print(\"{:.2}\\t{:.2}\\t{:.2}\\t{:.2}\\t{:.2}\".format(rf_scores['test_accuracy'].mean(),\n",
    "                                                 rf_scores['test_precision'].mean(),\n",
    "                                                 rf_scores['test_sensitivity'].mean(),\n",
    "                                                 rf_scores['test_specificity'].mean(),\n",
    "                                                 rf_scores['test_f1-score'].mean()))"
   ]
  },
  {
   "cell_type": "code",
   "execution_count": 72,
   "metadata": {},
   "outputs": [
    {
     "name": "stderr",
     "output_type": "stream",
     "text": [
      "/home/imran/anaconda3/lib/python3.6/site-packages/ipykernel_launcher.py:6: DataConversionWarning: A column-vector y was passed when a 1d array was expected. Please change the shape of y to (n_samples,), for example using ravel().\n",
      "  \n"
     ]
    },
    {
     "data": {
      "image/png": "[encoded data removed]",
      "text/plain": [
       "<Figure size 720x432 with 1 Axes>"
      ]
     },
     "metadata": {},
     "output_type": "display_data"
    }
   ],
   "source": [
    "import matplotlib.pyplot as plt\n",
    "import seaborn as sns\n",
    "sns.set(style=\"darkgrid\", context=\"poster\")\n",
    "%matplotlib inline\n",
    "\n",
    "rf_model.fit(X, y)\n",
    "importances = rf_model.feature_importances_\n",
    "std = np.std([tree.feature_importances_ for tree in rf_model.estimators_],\n",
    "             axis=0)\n",
    "\n",
    "indices = np.argsort(importances)[::-1]\n",
    "names = [X.columns[i] for i in indices]\n",
    "f, ax = plt.subplots(figsize=(10, 6))\n",
    "plt.title(\"Feature Importance\")\n",
    "plt.bar(range(X.shape[1]), importances[indices], yerr=std[indices], align=\"center\", color=sns.color_palette(\"GnBu_d\"))\n",
    "plt.xticks(range(X.shape[1]), names, rotation=90)\n",
    "# plt.show()\n",
    "plt.tight_layout()\n",
    "f.savefig(\"rf_imp.eps\")"
   ]
  }
 ],
 "metadata": {
  "colab": {
   "collapsed_sections": [
    "FRwe5prv4S9p",
    "oRiICmX8DdQ6",
    "jIYqlQQBpWZh",
    "JWdJi0sLD7q0",
    "SK2ac50zFX-d",
    "mVoG0fRwF4jM",
    "ByXLXsiqxbYC"
   ],
   "default_view": {},
   "name": "Autism Adult Improved Model.ipynb",
   "provenance": [],
   "version": "0.3.2",
   "views": {}
  },
  "kernelspec": {
   "display_name": "Python 3",
   "language": "python",
   "name": "python3"
  },
  "language_info": {
   "codemirror_mode": {
    "name": "ipython",
    "version": 3
   },
   "file_extension": ".py",
   "mimetype": "text/x-python",
   "name": "python",
   "nbconvert_exporter": "python",
   "pygments_lexer": "ipython3",
   "version": "3.8.10"
  }
 },
 "nbformat": 4,
 "nbformat_minor": 1
}
